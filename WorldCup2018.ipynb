{
 "cells": [
  {
   "cell_type": "code",
   "execution_count": 1,
   "metadata": {},
   "outputs": [],
   "source": [
    "import pandas as pd\n",
    "foot = pd.read_csv(\"results.csv\")\n",
    "import warnings\n",
    "warnings.filterwarnings('ignore')"
   ]
  },
  {
   "cell_type": "code",
   "execution_count": 2,
   "metadata": {},
   "outputs": [
    {
     "data": {
      "text/html": [
       "<div>\n",
       "<style scoped>\n",
       "    .dataframe tbody tr th:only-of-type {\n",
       "        vertical-align: middle;\n",
       "    }\n",
       "\n",
       "    .dataframe tbody tr th {\n",
       "        vertical-align: top;\n",
       "    }\n",
       "\n",
       "    .dataframe thead th {\n",
       "        text-align: right;\n",
       "    }\n",
       "</style>\n",
       "<table border=\"1\" class=\"dataframe\">\n",
       "  <thead>\n",
       "    <tr style=\"text-align: right;\">\n",
       "      <th></th>\n",
       "      <th>date</th>\n",
       "      <th>home_team</th>\n",
       "      <th>away_team</th>\n",
       "      <th>home_score</th>\n",
       "      <th>away_score</th>\n",
       "      <th>tournament</th>\n",
       "      <th>city</th>\n",
       "      <th>country</th>\n",
       "      <th>neutral</th>\n",
       "    </tr>\n",
       "  </thead>\n",
       "  <tbody>\n",
       "    <tr>\n",
       "      <th>0</th>\n",
       "      <td>1872-11-30</td>\n",
       "      <td>Scotland</td>\n",
       "      <td>England</td>\n",
       "      <td>0</td>\n",
       "      <td>0</td>\n",
       "      <td>Friendly</td>\n",
       "      <td>Glasgow</td>\n",
       "      <td>Scotland</td>\n",
       "      <td>False</td>\n",
       "    </tr>\n",
       "    <tr>\n",
       "      <th>1</th>\n",
       "      <td>1873-03-08</td>\n",
       "      <td>England</td>\n",
       "      <td>Scotland</td>\n",
       "      <td>4</td>\n",
       "      <td>2</td>\n",
       "      <td>Friendly</td>\n",
       "      <td>London</td>\n",
       "      <td>England</td>\n",
       "      <td>False</td>\n",
       "    </tr>\n",
       "    <tr>\n",
       "      <th>2</th>\n",
       "      <td>1874-03-07</td>\n",
       "      <td>Scotland</td>\n",
       "      <td>England</td>\n",
       "      <td>2</td>\n",
       "      <td>1</td>\n",
       "      <td>Friendly</td>\n",
       "      <td>Glasgow</td>\n",
       "      <td>Scotland</td>\n",
       "      <td>False</td>\n",
       "    </tr>\n",
       "    <tr>\n",
       "      <th>3</th>\n",
       "      <td>1875-03-06</td>\n",
       "      <td>England</td>\n",
       "      <td>Scotland</td>\n",
       "      <td>2</td>\n",
       "      <td>2</td>\n",
       "      <td>Friendly</td>\n",
       "      <td>London</td>\n",
       "      <td>England</td>\n",
       "      <td>False</td>\n",
       "    </tr>\n",
       "    <tr>\n",
       "      <th>4</th>\n",
       "      <td>1876-03-04</td>\n",
       "      <td>Scotland</td>\n",
       "      <td>England</td>\n",
       "      <td>3</td>\n",
       "      <td>0</td>\n",
       "      <td>Friendly</td>\n",
       "      <td>Glasgow</td>\n",
       "      <td>Scotland</td>\n",
       "      <td>False</td>\n",
       "    </tr>\n",
       "  </tbody>\n",
       "</table>\n",
       "</div>"
      ],
      "text/plain": [
       "         date home_team away_team  home_score  away_score tournament     city  \\\n",
       "0  1872-11-30  Scotland   England           0           0   Friendly  Glasgow   \n",
       "1  1873-03-08   England  Scotland           4           2   Friendly   London   \n",
       "2  1874-03-07  Scotland   England           2           1   Friendly  Glasgow   \n",
       "3  1875-03-06   England  Scotland           2           2   Friendly   London   \n",
       "4  1876-03-04  Scotland   England           3           0   Friendly  Glasgow   \n",
       "\n",
       "    country  neutral  \n",
       "0  Scotland    False  \n",
       "1   England    False  \n",
       "2  Scotland    False  \n",
       "3   England    False  \n",
       "4  Scotland    False  "
      ]
     },
     "execution_count": 2,
     "metadata": {},
     "output_type": "execute_result"
    }
   ],
   "source": [
    "foot.head()"
   ]
  },
  {
   "cell_type": "code",
   "execution_count": 3,
   "metadata": {},
   "outputs": [
    {
     "name": "stdout",
     "output_type": "stream",
     "text": [
      "<class 'pandas.core.frame.DataFrame'>\n",
      "RangeIndex: 39654 entries, 0 to 39653\n",
      "Data columns (total 9 columns):\n",
      "date          39654 non-null object\n",
      "home_team     39654 non-null object\n",
      "away_team     39654 non-null object\n",
      "home_score    39654 non-null int64\n",
      "away_score    39654 non-null int64\n",
      "tournament    39654 non-null object\n",
      "city          39654 non-null object\n",
      "country       39654 non-null object\n",
      "neutral       39654 non-null bool\n",
      "dtypes: bool(1), int64(2), object(6)\n",
      "memory usage: 2.5+ MB\n"
     ]
    }
   ],
   "source": [
    "foot.info()"
   ]
  },
  {
   "cell_type": "code",
   "execution_count": 4,
   "metadata": {},
   "outputs": [],
   "source": [
    "foot['date'] = pd.to_datetime(foot['date'])"
   ]
  },
  {
   "cell_type": "code",
   "execution_count": 5,
   "metadata": {},
   "outputs": [
    {
     "name": "stdout",
     "output_type": "stream",
     "text": [
      "<class 'pandas.core.frame.DataFrame'>\n",
      "RangeIndex: 39654 entries, 0 to 39653\n",
      "Data columns (total 9 columns):\n",
      "date          39654 non-null datetime64[ns]\n",
      "home_team     39654 non-null object\n",
      "away_team     39654 non-null object\n",
      "home_score    39654 non-null int64\n",
      "away_score    39654 non-null int64\n",
      "tournament    39654 non-null object\n",
      "city          39654 non-null object\n",
      "country       39654 non-null object\n",
      "neutral       39654 non-null bool\n",
      "dtypes: bool(1), datetime64[ns](1), int64(2), object(5)\n",
      "memory usage: 2.5+ MB\n"
     ]
    }
   ],
   "source": [
    "foot.info()"
   ]
  },
  {
   "cell_type": "code",
   "execution_count": 6,
   "metadata": {},
   "outputs": [
    {
     "data": {
      "text/html": [
       "<div>\n",
       "<style scoped>\n",
       "    .dataframe tbody tr th:only-of-type {\n",
       "        vertical-align: middle;\n",
       "    }\n",
       "\n",
       "    .dataframe tbody tr th {\n",
       "        vertical-align: top;\n",
       "    }\n",
       "\n",
       "    .dataframe thead th {\n",
       "        text-align: right;\n",
       "    }\n",
       "</style>\n",
       "<table border=\"1\" class=\"dataframe\">\n",
       "  <thead>\n",
       "    <tr style=\"text-align: right;\">\n",
       "      <th></th>\n",
       "      <th>date</th>\n",
       "      <th>home_team</th>\n",
       "      <th>away_team</th>\n",
       "      <th>home_score</th>\n",
       "      <th>away_score</th>\n",
       "      <th>tournament</th>\n",
       "      <th>city</th>\n",
       "      <th>country</th>\n",
       "      <th>neutral</th>\n",
       "    </tr>\n",
       "  </thead>\n",
       "  <tbody>\n",
       "    <tr>\n",
       "      <th>0</th>\n",
       "      <td>1872-11-30</td>\n",
       "      <td>Scotland</td>\n",
       "      <td>England</td>\n",
       "      <td>0</td>\n",
       "      <td>0</td>\n",
       "      <td>Friendly</td>\n",
       "      <td>Glasgow</td>\n",
       "      <td>Scotland</td>\n",
       "      <td>False</td>\n",
       "    </tr>\n",
       "    <tr>\n",
       "      <th>1</th>\n",
       "      <td>1873-03-08</td>\n",
       "      <td>England</td>\n",
       "      <td>Scotland</td>\n",
       "      <td>4</td>\n",
       "      <td>2</td>\n",
       "      <td>Friendly</td>\n",
       "      <td>London</td>\n",
       "      <td>England</td>\n",
       "      <td>False</td>\n",
       "    </tr>\n",
       "    <tr>\n",
       "      <th>2</th>\n",
       "      <td>1874-03-07</td>\n",
       "      <td>Scotland</td>\n",
       "      <td>England</td>\n",
       "      <td>2</td>\n",
       "      <td>1</td>\n",
       "      <td>Friendly</td>\n",
       "      <td>Glasgow</td>\n",
       "      <td>Scotland</td>\n",
       "      <td>False</td>\n",
       "    </tr>\n",
       "    <tr>\n",
       "      <th>3</th>\n",
       "      <td>1875-03-06</td>\n",
       "      <td>England</td>\n",
       "      <td>Scotland</td>\n",
       "      <td>2</td>\n",
       "      <td>2</td>\n",
       "      <td>Friendly</td>\n",
       "      <td>London</td>\n",
       "      <td>England</td>\n",
       "      <td>False</td>\n",
       "    </tr>\n",
       "    <tr>\n",
       "      <th>4</th>\n",
       "      <td>1876-03-04</td>\n",
       "      <td>Scotland</td>\n",
       "      <td>England</td>\n",
       "      <td>3</td>\n",
       "      <td>0</td>\n",
       "      <td>Friendly</td>\n",
       "      <td>Glasgow</td>\n",
       "      <td>Scotland</td>\n",
       "      <td>False</td>\n",
       "    </tr>\n",
       "  </tbody>\n",
       "</table>\n",
       "</div>"
      ],
      "text/plain": [
       "        date home_team away_team  home_score  away_score tournament     city  \\\n",
       "0 1872-11-30  Scotland   England           0           0   Friendly  Glasgow   \n",
       "1 1873-03-08   England  Scotland           4           2   Friendly   London   \n",
       "2 1874-03-07  Scotland   England           2           1   Friendly  Glasgow   \n",
       "3 1875-03-06   England  Scotland           2           2   Friendly   London   \n",
       "4 1876-03-04  Scotland   England           3           0   Friendly  Glasgow   \n",
       "\n",
       "    country  neutral  \n",
       "0  Scotland    False  \n",
       "1   England    False  \n",
       "2  Scotland    False  \n",
       "3   England    False  \n",
       "4  Scotland    False  "
      ]
     },
     "execution_count": 6,
     "metadata": {},
     "output_type": "execute_result"
    }
   ],
   "source": [
    "foot.head()"
   ]
  },
  {
   "cell_type": "code",
   "execution_count": 7,
   "metadata": {},
   "outputs": [
    {
     "data": {
      "text/html": [
       "<div>\n",
       "<style scoped>\n",
       "    .dataframe tbody tr th:only-of-type {\n",
       "        vertical-align: middle;\n",
       "    }\n",
       "\n",
       "    .dataframe tbody tr th {\n",
       "        vertical-align: top;\n",
       "    }\n",
       "\n",
       "    .dataframe thead th {\n",
       "        text-align: right;\n",
       "    }\n",
       "</style>\n",
       "<table border=\"1\" class=\"dataframe\">\n",
       "  <thead>\n",
       "    <tr style=\"text-align: right;\">\n",
       "      <th></th>\n",
       "      <th>date</th>\n",
       "      <th>home_team</th>\n",
       "      <th>away_team</th>\n",
       "      <th>home_score</th>\n",
       "      <th>away_score</th>\n",
       "      <th>tournament</th>\n",
       "      <th>city</th>\n",
       "      <th>country</th>\n",
       "      <th>neutral</th>\n",
       "    </tr>\n",
       "  </thead>\n",
       "  <tbody>\n",
       "    <tr>\n",
       "      <th>39649</th>\n",
       "      <td>2018-06-27</td>\n",
       "      <td>Switzerland</td>\n",
       "      <td>Costa Rica</td>\n",
       "      <td>2</td>\n",
       "      <td>2</td>\n",
       "      <td>FIFA World Cup</td>\n",
       "      <td>Nizhny Novgorod</td>\n",
       "      <td>Russia</td>\n",
       "      <td>True</td>\n",
       "    </tr>\n",
       "    <tr>\n",
       "      <th>39650</th>\n",
       "      <td>2018-06-28</td>\n",
       "      <td>Japan</td>\n",
       "      <td>Poland</td>\n",
       "      <td>0</td>\n",
       "      <td>1</td>\n",
       "      <td>FIFA World Cup</td>\n",
       "      <td>Volgograd</td>\n",
       "      <td>Russia</td>\n",
       "      <td>True</td>\n",
       "    </tr>\n",
       "    <tr>\n",
       "      <th>39651</th>\n",
       "      <td>2018-06-28</td>\n",
       "      <td>Senegal</td>\n",
       "      <td>Colombia</td>\n",
       "      <td>0</td>\n",
       "      <td>1</td>\n",
       "      <td>FIFA World Cup</td>\n",
       "      <td>Samara</td>\n",
       "      <td>Russia</td>\n",
       "      <td>True</td>\n",
       "    </tr>\n",
       "    <tr>\n",
       "      <th>39652</th>\n",
       "      <td>2018-06-28</td>\n",
       "      <td>Panama</td>\n",
       "      <td>Tunisia</td>\n",
       "      <td>1</td>\n",
       "      <td>2</td>\n",
       "      <td>FIFA World Cup</td>\n",
       "      <td>Saransk</td>\n",
       "      <td>Russia</td>\n",
       "      <td>True</td>\n",
       "    </tr>\n",
       "    <tr>\n",
       "      <th>39653</th>\n",
       "      <td>2018-06-28</td>\n",
       "      <td>England</td>\n",
       "      <td>Belgium</td>\n",
       "      <td>0</td>\n",
       "      <td>1</td>\n",
       "      <td>FIFA World Cup</td>\n",
       "      <td>Kaliningrad</td>\n",
       "      <td>Russia</td>\n",
       "      <td>True</td>\n",
       "    </tr>\n",
       "  </tbody>\n",
       "</table>\n",
       "</div>"
      ],
      "text/plain": [
       "            date    home_team   away_team  home_score  away_score  \\\n",
       "39649 2018-06-27  Switzerland  Costa Rica           2           2   \n",
       "39650 2018-06-28        Japan      Poland           0           1   \n",
       "39651 2018-06-28      Senegal    Colombia           0           1   \n",
       "39652 2018-06-28       Panama     Tunisia           1           2   \n",
       "39653 2018-06-28      England     Belgium           0           1   \n",
       "\n",
       "           tournament             city country  neutral  \n",
       "39649  FIFA World Cup  Nizhny Novgorod  Russia     True  \n",
       "39650  FIFA World Cup        Volgograd  Russia     True  \n",
       "39651  FIFA World Cup           Samara  Russia     True  \n",
       "39652  FIFA World Cup          Saransk  Russia     True  \n",
       "39653  FIFA World Cup      Kaliningrad  Russia     True  "
      ]
     },
     "execution_count": 7,
     "metadata": {},
     "output_type": "execute_result"
    }
   ],
   "source": [
    "foot.tail()"
   ]
  },
  {
   "cell_type": "code",
   "execution_count": 8,
   "metadata": {},
   "outputs": [],
   "source": [
    "import datetime\n",
    "foot = foot[foot.date > datetime.date(2017, 1, 1)]"
   ]
  },
  {
   "cell_type": "code",
   "execution_count": 9,
   "metadata": {},
   "outputs": [
    {
     "name": "stdout",
     "output_type": "stream",
     "text": [
      "<class 'pandas.core.frame.DataFrame'>\n",
      "Int64Index: 1284 entries, 38370 to 39653\n",
      "Data columns (total 9 columns):\n",
      "date          1284 non-null datetime64[ns]\n",
      "home_team     1284 non-null object\n",
      "away_team     1284 non-null object\n",
      "home_score    1284 non-null int64\n",
      "away_score    1284 non-null int64\n",
      "tournament    1284 non-null object\n",
      "city          1284 non-null object\n",
      "country       1284 non-null object\n",
      "neutral       1284 non-null bool\n",
      "dtypes: bool(1), datetime64[ns](1), int64(2), object(5)\n",
      "memory usage: 91.5+ KB\n"
     ]
    }
   ],
   "source": [
    "foot.info()"
   ]
  },
  {
   "cell_type": "code",
   "execution_count": 10,
   "metadata": {},
   "outputs": [],
   "source": [
    "round_of_16 = ['France','Argentina','Uruguay','Portugal','Spain','Russia','Denmark','Croatia','Brazil','Mexico',\n",
    "               'Belgium','Japan','Sweden','Switzerland','Colombia','England']"
   ]
  },
  {
   "cell_type": "code",
   "execution_count": 11,
   "metadata": {},
   "outputs": [],
   "source": [
    "import numpy as np\n",
    "conditions = [\n",
    "    (foot['home_score'] > foot['away_score']),\n",
    "    (foot['home_score'] < foot['away_score'])]\n",
    "choices = [ 1 , 0]\n",
    "foot['win'] = np.select(conditions, choices, default=-1)"
   ]
  },
  {
   "cell_type": "code",
   "execution_count": 12,
   "metadata": {},
   "outputs": [],
   "source": [
    "foot['home_gd'] = foot['home_score'] - foot['away_score']\n",
    "foot['away_gd'] = foot['away_score'] - foot['home_score']"
   ]
  },
  {
   "cell_type": "code",
   "execution_count": 13,
   "metadata": {},
   "outputs": [],
   "source": [
    "foot_home = foot.loc[(foot['home_team'].isin(round_of_16))] \n",
    "foot_away = foot.loc[(foot['away_team'].isin(round_of_16))]"
   ]
  },
  {
   "cell_type": "code",
   "execution_count": 14,
   "metadata": {},
   "outputs": [
    {
     "name": "stdout",
     "output_type": "stream",
     "text": [
      "<class 'pandas.core.frame.DataFrame'>\n",
      "Int64Index: 167 entries, 38426 to 39653\n",
      "Data columns (total 12 columns):\n",
      "date          167 non-null datetime64[ns]\n",
      "home_team     167 non-null object\n",
      "away_team     167 non-null object\n",
      "home_score    167 non-null int64\n",
      "away_score    167 non-null int64\n",
      "tournament    167 non-null object\n",
      "city          167 non-null object\n",
      "country       167 non-null object\n",
      "neutral       167 non-null bool\n",
      "win           167 non-null int32\n",
      "home_gd       167 non-null int64\n",
      "away_gd       167 non-null int64\n",
      "dtypes: bool(1), datetime64[ns](1), int32(1), int64(4), object(5)\n",
      "memory usage: 15.2+ KB\n"
     ]
    }
   ],
   "source": [
    "foot_home.info()"
   ]
  },
  {
   "cell_type": "code",
   "execution_count": 15,
   "metadata": {},
   "outputs": [],
   "source": [
    "country_perf = {}\n",
    "for country in round_of_16:\n",
    "    c_home = foot_home.loc[(foot_home['home_team']==country)]\n",
    "    c_away = foot_away.loc[(foot_away['away_team']==country)]\n",
    "    win_prob = np.average( [ len(c_home.loc[c_home['win'] == 1])/ len(c_home),len(c_away.loc[c_away['win'] == 0])/ len(c_away) ] )\n",
    "    goal_diff = np.average( [ c_home['home_gd'].sum(), c_away['away_gd'].sum() ] )\n",
    "    attribs = [win_prob, goal_diff]\n",
    "    country_perf[country] = attribs"
   ]
  },
  {
   "cell_type": "code",
   "execution_count": 16,
   "metadata": {},
   "outputs": [
    {
     "name": "stdout",
     "output_type": "stream",
     "text": [
      "{'France': [0.5961538461538461, 10.0], 'Argentina': [0.5, 3.0], 'Uruguay': [0.5333333333333333, 2.0], 'Portugal': [0.6383928571428572, 14.5], 'Spain': [0.6458333333333333, 16.5], 'Russia': [0.375, 0.0], 'Denmark': [0.5071428571428571, 8.5], 'Croatia': [0.5654761904761905, 3.5], 'Brazil': [0.75, 15.0], 'Mexico': [0.5557692307692308, 7.5], 'Belgium': [0.775, 18.0], 'Japan': [0.3571428571428571, 0.5], 'Sweden': [0.47916666666666663, 8.5], 'Switzerland': [0.6875, 11.0], 'Colombia': [0.35, 6.0], 'England': [0.5857142857142856, 8.0]}\n"
     ]
    }
   ],
   "source": [
    "print(country_perf)"
   ]
  },
  {
   "cell_type": "markdown",
   "metadata": {},
   "source": [
    "## Making Prediction Using players data"
   ]
  },
  {
   "cell_type": "code",
   "execution_count": 17,
   "metadata": {},
   "outputs": [],
   "source": [
    "foot_players = pd.read_csv('training_data.csv')"
   ]
  },
  {
   "cell_type": "code",
   "execution_count": 18,
   "metadata": {
    "scrolled": true
   },
   "outputs": [
    {
     "data": {
      "text/html": [
       "<div>\n",
       "<style scoped>\n",
       "    .dataframe tbody tr th:only-of-type {\n",
       "        vertical-align: middle;\n",
       "    }\n",
       "\n",
       "    .dataframe tbody tr th {\n",
       "        vertical-align: top;\n",
       "    }\n",
       "\n",
       "    .dataframe thead th {\n",
       "        text-align: right;\n",
       "    }\n",
       "</style>\n",
       "<table border=\"1\" class=\"dataframe\">\n",
       "  <thead>\n",
       "    <tr style=\"text-align: right;\">\n",
       "      <th></th>\n",
       "      <th>team-1_player-1_overall_rating</th>\n",
       "      <th>team-1_player-1_potential</th>\n",
       "      <th>team-1_player-1_age</th>\n",
       "      <th>team-1_player-2_overall_rating</th>\n",
       "      <th>team-1_player-2_potential</th>\n",
       "      <th>team-1_player-2_age</th>\n",
       "      <th>team-1_player-3_overall_rating</th>\n",
       "      <th>team-1_player-3_potential</th>\n",
       "      <th>team-1_player-3_age</th>\n",
       "      <th>team-1_player-4_overall_rating</th>\n",
       "      <th>...</th>\n",
       "      <th>team-2_player-9_overall_rating</th>\n",
       "      <th>team-2_player-9_potential</th>\n",
       "      <th>team-2_player-9_age</th>\n",
       "      <th>team-2_player-10_overall_rating</th>\n",
       "      <th>team-2_player-10_potential</th>\n",
       "      <th>team-2_player-10_age</th>\n",
       "      <th>team-2_player-11_overall_rating</th>\n",
       "      <th>team-2_player-11_potential</th>\n",
       "      <th>team-2_player-11_age</th>\n",
       "      <th>match_result</th>\n",
       "    </tr>\n",
       "  </thead>\n",
       "  <tbody>\n",
       "    <tr>\n",
       "      <th>0</th>\n",
       "      <td>58.0</td>\n",
       "      <td>67.0</td>\n",
       "      <td>9048</td>\n",
       "      <td>57.0</td>\n",
       "      <td>59.0</td>\n",
       "      <td>9380</td>\n",
       "      <td>67.0</td>\n",
       "      <td>72.0</td>\n",
       "      <td>8267</td>\n",
       "      <td>53.0</td>\n",
       "      <td>...</td>\n",
       "      <td>70.0</td>\n",
       "      <td>73.0</td>\n",
       "      <td>9936</td>\n",
       "      <td>68.0</td>\n",
       "      <td>62.0</td>\n",
       "      <td>9753</td>\n",
       "      <td>63.0</td>\n",
       "      <td>72.0</td>\n",
       "      <td>7282</td>\n",
       "      <td>Win</td>\n",
       "    </tr>\n",
       "    <tr>\n",
       "      <th>1</th>\n",
       "      <td>64.0</td>\n",
       "      <td>67.0</td>\n",
       "      <td>9500</td>\n",
       "      <td>64.0</td>\n",
       "      <td>67.0</td>\n",
       "      <td>11480</td>\n",
       "      <td>63.0</td>\n",
       "      <td>65.0</td>\n",
       "      <td>9777</td>\n",
       "      <td>62.0</td>\n",
       "      <td>...</td>\n",
       "      <td>67.0</td>\n",
       "      <td>79.0</td>\n",
       "      <td>8132</td>\n",
       "      <td>73.0</td>\n",
       "      <td>76.0</td>\n",
       "      <td>11169</td>\n",
       "      <td>68.0</td>\n",
       "      <td>74.0</td>\n",
       "      <td>8232</td>\n",
       "      <td>Defeat</td>\n",
       "    </tr>\n",
       "    <tr>\n",
       "      <th>2</th>\n",
       "      <td>67.0</td>\n",
       "      <td>69.0</td>\n",
       "      <td>11330</td>\n",
       "      <td>72.0</td>\n",
       "      <td>75.0</td>\n",
       "      <td>10246</td>\n",
       "      <td>69.0</td>\n",
       "      <td>74.0</td>\n",
       "      <td>8891</td>\n",
       "      <td>69.0</td>\n",
       "      <td>...</td>\n",
       "      <td>55.0</td>\n",
       "      <td>72.0</td>\n",
       "      <td>7215</td>\n",
       "      <td>58.0</td>\n",
       "      <td>64.0</td>\n",
       "      <td>8349</td>\n",
       "      <td>64.0</td>\n",
       "      <td>72.0</td>\n",
       "      <td>8535</td>\n",
       "      <td>Win</td>\n",
       "    </tr>\n",
       "    <tr>\n",
       "      <th>3</th>\n",
       "      <td>58.0</td>\n",
       "      <td>67.0</td>\n",
       "      <td>9062</td>\n",
       "      <td>57.0</td>\n",
       "      <td>59.0</td>\n",
       "      <td>9394</td>\n",
       "      <td>67.0</td>\n",
       "      <td>72.0</td>\n",
       "      <td>8281</td>\n",
       "      <td>65.0</td>\n",
       "      <td>...</td>\n",
       "      <td>74.0</td>\n",
       "      <td>80.0</td>\n",
       "      <td>8443</td>\n",
       "      <td>70.0</td>\n",
       "      <td>74.0</td>\n",
       "      <td>9135</td>\n",
       "      <td>69.0</td>\n",
       "      <td>75.0</td>\n",
       "      <td>8654</td>\n",
       "      <td>Win</td>\n",
       "    </tr>\n",
       "    <tr>\n",
       "      <th>4</th>\n",
       "      <td>61.0</td>\n",
       "      <td>65.0</td>\n",
       "      <td>8616</td>\n",
       "      <td>66.0</td>\n",
       "      <td>67.0</td>\n",
       "      <td>10417</td>\n",
       "      <td>61.0</td>\n",
       "      <td>66.0</td>\n",
       "      <td>8218</td>\n",
       "      <td>61.0</td>\n",
       "      <td>...</td>\n",
       "      <td>60.0</td>\n",
       "      <td>79.0</td>\n",
       "      <td>7345</td>\n",
       "      <td>63.0</td>\n",
       "      <td>66.0</td>\n",
       "      <td>10893</td>\n",
       "      <td>65.0</td>\n",
       "      <td>68.0</td>\n",
       "      <td>8880</td>\n",
       "      <td>Draw</td>\n",
       "    </tr>\n",
       "  </tbody>\n",
       "</table>\n",
       "<p>5 rows × 67 columns</p>\n",
       "</div>"
      ],
      "text/plain": [
       "   team-1_player-1_overall_rating  team-1_player-1_potential  \\\n",
       "0                            58.0                       67.0   \n",
       "1                            64.0                       67.0   \n",
       "2                            67.0                       69.0   \n",
       "3                            58.0                       67.0   \n",
       "4                            61.0                       65.0   \n",
       "\n",
       "   team-1_player-1_age  team-1_player-2_overall_rating  \\\n",
       "0                 9048                            57.0   \n",
       "1                 9500                            64.0   \n",
       "2                11330                            72.0   \n",
       "3                 9062                            57.0   \n",
       "4                 8616                            66.0   \n",
       "\n",
       "   team-1_player-2_potential  team-1_player-2_age  \\\n",
       "0                       59.0                 9380   \n",
       "1                       67.0                11480   \n",
       "2                       75.0                10246   \n",
       "3                       59.0                 9394   \n",
       "4                       67.0                10417   \n",
       "\n",
       "   team-1_player-3_overall_rating  team-1_player-3_potential  \\\n",
       "0                            67.0                       72.0   \n",
       "1                            63.0                       65.0   \n",
       "2                            69.0                       74.0   \n",
       "3                            67.0                       72.0   \n",
       "4                            61.0                       66.0   \n",
       "\n",
       "   team-1_player-3_age  team-1_player-4_overall_rating      ...       \\\n",
       "0                 8267                            53.0      ...        \n",
       "1                 9777                            62.0      ...        \n",
       "2                 8891                            69.0      ...        \n",
       "3                 8281                            65.0      ...        \n",
       "4                 8218                            61.0      ...        \n",
       "\n",
       "   team-2_player-9_overall_rating  team-2_player-9_potential  \\\n",
       "0                            70.0                       73.0   \n",
       "1                            67.0                       79.0   \n",
       "2                            55.0                       72.0   \n",
       "3                            74.0                       80.0   \n",
       "4                            60.0                       79.0   \n",
       "\n",
       "   team-2_player-9_age  team-2_player-10_overall_rating  \\\n",
       "0                 9936                             68.0   \n",
       "1                 8132                             73.0   \n",
       "2                 7215                             58.0   \n",
       "3                 8443                             70.0   \n",
       "4                 7345                             63.0   \n",
       "\n",
       "   team-2_player-10_potential  team-2_player-10_age  \\\n",
       "0                        62.0                  9753   \n",
       "1                        76.0                 11169   \n",
       "2                        64.0                  8349   \n",
       "3                        74.0                  9135   \n",
       "4                        66.0                 10893   \n",
       "\n",
       "   team-2_player-11_overall_rating  team-2_player-11_potential  \\\n",
       "0                             63.0                        72.0   \n",
       "1                             68.0                        74.0   \n",
       "2                             64.0                        72.0   \n",
       "3                             69.0                        75.0   \n",
       "4                             65.0                        68.0   \n",
       "\n",
       "   team-2_player-11_age  match_result  \n",
       "0                  7282           Win  \n",
       "1                  8232        Defeat  \n",
       "2                  8535           Win  \n",
       "3                  8654           Win  \n",
       "4                  8880          Draw  \n",
       "\n",
       "[5 rows x 67 columns]"
      ]
     },
     "execution_count": 18,
     "metadata": {},
     "output_type": "execute_result"
    }
   ],
   "source": [
    "foot_players.head()"
   ]
  },
  {
   "cell_type": "code",
   "execution_count": 19,
   "metadata": {},
   "outputs": [
    {
     "data": {
      "text/plain": [
       "Win       9804\n",
       "Defeat    6161\n",
       "Draw      5396\n",
       "Name: match_result, dtype: int64"
      ]
     },
     "execution_count": 19,
     "metadata": {},
     "output_type": "execute_result"
    }
   ],
   "source": [
    "foot_players['match_result'].value_counts()"
   ]
  },
  {
   "cell_type": "code",
   "execution_count": 20,
   "metadata": {},
   "outputs": [],
   "source": [
    "foot_players['match_result'] = foot_players['match_result'].map({ 'Win': 1, 'Defeat': 0, 'Draw': -1})"
   ]
  },
  {
   "cell_type": "code",
   "execution_count": 21,
   "metadata": {},
   "outputs": [],
   "source": [
    "# make X and y dataframes with independent and dependent columns respectively\n",
    "X = foot_players.loc[:, foot_players.columns != 'match_result']\n",
    "y = foot_players['match_result']"
   ]
  },
  {
   "cell_type": "code",
   "execution_count": 22,
   "metadata": {},
   "outputs": [],
   "source": [
    "# Normalize the data\n",
    "def normalise(x):\n",
    "    return ((x-np.mean(x))/(max(x)-min(x)))"
   ]
  },
  {
   "cell_type": "code",
   "execution_count": 23,
   "metadata": {},
   "outputs": [],
   "source": [
    "X = X.apply(normalise)"
   ]
  },
  {
   "cell_type": "code",
   "execution_count": 24,
   "metadata": {},
   "outputs": [
    {
     "data": {
      "text/html": [
       "<div>\n",
       "<style scoped>\n",
       "    .dataframe tbody tr th:only-of-type {\n",
       "        vertical-align: middle;\n",
       "    }\n",
       "\n",
       "    .dataframe tbody tr th {\n",
       "        vertical-align: top;\n",
       "    }\n",
       "\n",
       "    .dataframe thead th {\n",
       "        text-align: right;\n",
       "    }\n",
       "</style>\n",
       "<table border=\"1\" class=\"dataframe\">\n",
       "  <thead>\n",
       "    <tr style=\"text-align: right;\">\n",
       "      <th></th>\n",
       "      <th>team-1_player-1_overall_rating</th>\n",
       "      <th>team-1_player-1_potential</th>\n",
       "      <th>team-1_player-1_age</th>\n",
       "      <th>team-1_player-2_overall_rating</th>\n",
       "      <th>team-1_player-2_potential</th>\n",
       "      <th>team-1_player-2_age</th>\n",
       "      <th>team-1_player-3_overall_rating</th>\n",
       "      <th>team-1_player-3_potential</th>\n",
       "      <th>team-1_player-3_age</th>\n",
       "      <th>team-1_player-4_overall_rating</th>\n",
       "      <th>...</th>\n",
       "      <th>team-2_player-8_age</th>\n",
       "      <th>team-2_player-9_overall_rating</th>\n",
       "      <th>team-2_player-9_potential</th>\n",
       "      <th>team-2_player-9_age</th>\n",
       "      <th>team-2_player-10_overall_rating</th>\n",
       "      <th>team-2_player-10_potential</th>\n",
       "      <th>team-2_player-10_age</th>\n",
       "      <th>team-2_player-11_overall_rating</th>\n",
       "      <th>team-2_player-11_potential</th>\n",
       "      <th>team-2_player-11_age</th>\n",
       "    </tr>\n",
       "  </thead>\n",
       "  <tbody>\n",
       "    <tr>\n",
       "      <th>0</th>\n",
       "      <td>-0.315396</td>\n",
       "      <td>-0.228806</td>\n",
       "      <td>-0.143985</td>\n",
       "      <td>-0.278277</td>\n",
       "      <td>-0.341368</td>\n",
       "      <td>-0.035492</td>\n",
       "      <td>-0.107032</td>\n",
       "      <td>-0.090583</td>\n",
       "      <td>-0.198463</td>\n",
       "      <td>-0.387614</td>\n",
       "      <td>...</td>\n",
       "      <td>0.062128</td>\n",
       "      <td>-0.042602</td>\n",
       "      <td>-0.087823</td>\n",
       "      <td>0.057659</td>\n",
       "      <td>-0.084621</td>\n",
       "      <td>-0.320558</td>\n",
       "      <td>0.025786</td>\n",
       "      <td>-0.19489</td>\n",
       "      <td>-0.119253</td>\n",
       "      <td>-0.277733</td>\n",
       "    </tr>\n",
       "    <tr>\n",
       "      <th>1</th>\n",
       "      <td>-0.190396</td>\n",
       "      <td>-0.228806</td>\n",
       "      <td>-0.097517</td>\n",
       "      <td>-0.129341</td>\n",
       "      <td>-0.163590</td>\n",
       "      <td>0.206975</td>\n",
       "      <td>-0.197941</td>\n",
       "      <td>-0.274794</td>\n",
       "      <td>-0.028648</td>\n",
       "      <td>-0.200114</td>\n",
       "      <td>...</td>\n",
       "      <td>-0.156775</td>\n",
       "      <td>-0.100294</td>\n",
       "      <td>0.045511</td>\n",
       "      <td>-0.151816</td>\n",
       "      <td>0.007971</td>\n",
       "      <td>-0.022686</td>\n",
       "      <td>0.192925</td>\n",
       "      <td>-0.09489</td>\n",
       "      <td>-0.072742</td>\n",
       "      <td>-0.162735</td>\n",
       "    </tr>\n",
       "    <tr>\n",
       "      <th>2</th>\n",
       "      <td>-0.127896</td>\n",
       "      <td>-0.181187</td>\n",
       "      <td>0.090619</td>\n",
       "      <td>0.040872</td>\n",
       "      <td>0.014188</td>\n",
       "      <td>0.064497</td>\n",
       "      <td>-0.061578</td>\n",
       "      <td>-0.037952</td>\n",
       "      <td>-0.128288</td>\n",
       "      <td>-0.054280</td>\n",
       "      <td>...</td>\n",
       "      <td>-0.042304</td>\n",
       "      <td>-0.331063</td>\n",
       "      <td>-0.110045</td>\n",
       "      <td>-0.258296</td>\n",
       "      <td>-0.269806</td>\n",
       "      <td>-0.278005</td>\n",
       "      <td>-0.139937</td>\n",
       "      <td>-0.17489</td>\n",
       "      <td>-0.119253</td>\n",
       "      <td>-0.126056</td>\n",
       "    </tr>\n",
       "    <tr>\n",
       "      <th>3</th>\n",
       "      <td>-0.315396</td>\n",
       "      <td>-0.228806</td>\n",
       "      <td>-0.142546</td>\n",
       "      <td>-0.278277</td>\n",
       "      <td>-0.341368</td>\n",
       "      <td>-0.033875</td>\n",
       "      <td>-0.107032</td>\n",
       "      <td>-0.090583</td>\n",
       "      <td>-0.196889</td>\n",
       "      <td>-0.137614</td>\n",
       "      <td>...</td>\n",
       "      <td>-0.065443</td>\n",
       "      <td>0.034321</td>\n",
       "      <td>0.067733</td>\n",
       "      <td>-0.115704</td>\n",
       "      <td>-0.047584</td>\n",
       "      <td>-0.065239</td>\n",
       "      <td>-0.047160</td>\n",
       "      <td>-0.07489</td>\n",
       "      <td>-0.049486</td>\n",
       "      <td>-0.111651</td>\n",
       "    </tr>\n",
       "    <tr>\n",
       "      <th>4</th>\n",
       "      <td>-0.252896</td>\n",
       "      <td>-0.276425</td>\n",
       "      <td>-0.188398</td>\n",
       "      <td>-0.086788</td>\n",
       "      <td>-0.163590</td>\n",
       "      <td>0.084240</td>\n",
       "      <td>-0.243396</td>\n",
       "      <td>-0.248478</td>\n",
       "      <td>-0.203974</td>\n",
       "      <td>-0.220947</td>\n",
       "      <td>...</td>\n",
       "      <td>-0.042059</td>\n",
       "      <td>-0.234910</td>\n",
       "      <td>0.045511</td>\n",
       "      <td>-0.243201</td>\n",
       "      <td>-0.177214</td>\n",
       "      <td>-0.235452</td>\n",
       "      <td>0.160347</td>\n",
       "      <td>-0.15489</td>\n",
       "      <td>-0.212277</td>\n",
       "      <td>-0.084294</td>\n",
       "    </tr>\n",
       "  </tbody>\n",
       "</table>\n",
       "<p>5 rows × 66 columns</p>\n",
       "</div>"
      ],
      "text/plain": [
       "   team-1_player-1_overall_rating  team-1_player-1_potential  \\\n",
       "0                       -0.315396                  -0.228806   \n",
       "1                       -0.190396                  -0.228806   \n",
       "2                       -0.127896                  -0.181187   \n",
       "3                       -0.315396                  -0.228806   \n",
       "4                       -0.252896                  -0.276425   \n",
       "\n",
       "   team-1_player-1_age  team-1_player-2_overall_rating  \\\n",
       "0            -0.143985                       -0.278277   \n",
       "1            -0.097517                       -0.129341   \n",
       "2             0.090619                        0.040872   \n",
       "3            -0.142546                       -0.278277   \n",
       "4            -0.188398                       -0.086788   \n",
       "\n",
       "   team-1_player-2_potential  team-1_player-2_age  \\\n",
       "0                  -0.341368            -0.035492   \n",
       "1                  -0.163590             0.206975   \n",
       "2                   0.014188             0.064497   \n",
       "3                  -0.341368            -0.033875   \n",
       "4                  -0.163590             0.084240   \n",
       "\n",
       "   team-1_player-3_overall_rating  team-1_player-3_potential  \\\n",
       "0                       -0.107032                  -0.090583   \n",
       "1                       -0.197941                  -0.274794   \n",
       "2                       -0.061578                  -0.037952   \n",
       "3                       -0.107032                  -0.090583   \n",
       "4                       -0.243396                  -0.248478   \n",
       "\n",
       "   team-1_player-3_age  team-1_player-4_overall_rating          ...           \\\n",
       "0            -0.198463                       -0.387614          ...            \n",
       "1            -0.028648                       -0.200114          ...            \n",
       "2            -0.128288                       -0.054280          ...            \n",
       "3            -0.196889                       -0.137614          ...            \n",
       "4            -0.203974                       -0.220947          ...            \n",
       "\n",
       "   team-2_player-8_age  team-2_player-9_overall_rating  \\\n",
       "0             0.062128                       -0.042602   \n",
       "1            -0.156775                       -0.100294   \n",
       "2            -0.042304                       -0.331063   \n",
       "3            -0.065443                        0.034321   \n",
       "4            -0.042059                       -0.234910   \n",
       "\n",
       "   team-2_player-9_potential  team-2_player-9_age  \\\n",
       "0                  -0.087823             0.057659   \n",
       "1                   0.045511            -0.151816   \n",
       "2                  -0.110045            -0.258296   \n",
       "3                   0.067733            -0.115704   \n",
       "4                   0.045511            -0.243201   \n",
       "\n",
       "   team-2_player-10_overall_rating  team-2_player-10_potential  \\\n",
       "0                        -0.084621                   -0.320558   \n",
       "1                         0.007971                   -0.022686   \n",
       "2                        -0.269806                   -0.278005   \n",
       "3                        -0.047584                   -0.065239   \n",
       "4                        -0.177214                   -0.235452   \n",
       "\n",
       "   team-2_player-10_age  team-2_player-11_overall_rating  \\\n",
       "0              0.025786                         -0.19489   \n",
       "1              0.192925                         -0.09489   \n",
       "2             -0.139937                         -0.17489   \n",
       "3             -0.047160                         -0.07489   \n",
       "4              0.160347                         -0.15489   \n",
       "\n",
       "   team-2_player-11_potential  team-2_player-11_age  \n",
       "0                   -0.119253             -0.277733  \n",
       "1                   -0.072742             -0.162735  \n",
       "2                   -0.119253             -0.126056  \n",
       "3                   -0.049486             -0.111651  \n",
       "4                   -0.212277             -0.084294  \n",
       "\n",
       "[5 rows x 66 columns]"
      ]
     },
     "execution_count": 24,
     "metadata": {},
     "output_type": "execute_result"
    }
   ],
   "source": [
    "X.head()"
   ]
  },
  {
   "cell_type": "code",
   "execution_count": 25,
   "metadata": {},
   "outputs": [
    {
     "data": {
      "text/plain": [
       "0    1\n",
       "1    0\n",
       "2    1\n",
       "3    1\n",
       "4   -1\n",
       "Name: match_result, dtype: int64"
      ]
     },
     "execution_count": 25,
     "metadata": {},
     "output_type": "execute_result"
    }
   ],
   "source": [
    "y.head()"
   ]
  },
  {
   "cell_type": "code",
   "execution_count": 26,
   "metadata": {},
   "outputs": [
    {
     "name": "stdout",
     "output_type": "stream",
     "text": [
      "<class 'pandas.core.frame.DataFrame'>\n",
      "RangeIndex: 21361 entries, 0 to 21360\n",
      "Data columns (total 66 columns):\n",
      "team-1_player-1_overall_rating     21361 non-null float64\n",
      "team-1_player-1_potential          21361 non-null float64\n",
      "team-1_player-1_age                21361 non-null float64\n",
      "team-1_player-2_overall_rating     21361 non-null float64\n",
      "team-1_player-2_potential          21361 non-null float64\n",
      "team-1_player-2_age                21361 non-null float64\n",
      "team-1_player-3_overall_rating     21361 non-null float64\n",
      "team-1_player-3_potential          21361 non-null float64\n",
      "team-1_player-3_age                21361 non-null float64\n",
      "team-1_player-4_overall_rating     21361 non-null float64\n",
      "team-1_player-4_potential          21361 non-null float64\n",
      "team-1_player-4_age                21361 non-null float64\n",
      "team-1_player-5_overall_rating     21361 non-null float64\n",
      "team-1_player-5_potential          21361 non-null float64\n",
      "team-1_player-5_age                21361 non-null float64\n",
      "team-1_player-6_overall_rating     21361 non-null float64\n",
      "team-1_player-6_potential          21361 non-null float64\n",
      "team-1_player-6_age                21361 non-null float64\n",
      "team-1_player-7_overall_rating     21361 non-null float64\n",
      "team-1_player-7_potential          21361 non-null float64\n",
      "team-1_player-7_age                21361 non-null float64\n",
      "team-1_player-8_overall_rating     21361 non-null float64\n",
      "team-1_player-8_potential          21361 non-null float64\n",
      "team-1_player-8_age                21361 non-null float64\n",
      "team-1_player-9_overall_rating     21361 non-null float64\n",
      "team-1_player-9_potential          21361 non-null float64\n",
      "team-1_player-9_age                21361 non-null float64\n",
      "team-1_player-10_overall_rating    21361 non-null float64\n",
      "team-1_player-10_potential         21361 non-null float64\n",
      "team-1_player-10_age               21361 non-null float64\n",
      "team-1_player-11_overall_rating    21361 non-null float64\n",
      "team-1_player-11_potential         21361 non-null float64\n",
      "team-1_player-11_age               21361 non-null float64\n",
      "team-2_player-1_overall_rating     21361 non-null float64\n",
      "team-2_player-1_potential          21361 non-null float64\n",
      "team-2_player-1_age                21361 non-null float64\n",
      "team-2_player-2_overall_rating     21361 non-null float64\n",
      "team-2_player-2_potential          21361 non-null float64\n",
      "team-2_player-2_age                21361 non-null float64\n",
      "team-2_player-3_overall_rating     21361 non-null float64\n",
      "team-2_player-3_potential          21361 non-null float64\n",
      "team-2_player-3_age                21361 non-null float64\n",
      "team-2_player-4_overall_rating     21361 non-null float64\n",
      "team-2_player-4_potential          21361 non-null float64\n",
      "team-2_player-4_age                21361 non-null float64\n",
      "team-2_player-5_overall_rating     21361 non-null float64\n",
      "team-2_player-5_potential          21361 non-null float64\n",
      "team-2_player-5_age                21361 non-null float64\n",
      "team-2_player-6_overall_rating     21361 non-null float64\n",
      "team-2_player-6_potential          21361 non-null float64\n",
      "team-2_player-6_age                21361 non-null float64\n",
      "team-2_player-7_overall_rating     21361 non-null float64\n",
      "team-2_player-7_potential          21361 non-null float64\n",
      "team-2_player-7_age                21361 non-null float64\n",
      "team-2_player-8_overall_rating     21361 non-null float64\n",
      "team-2_player-8_potential          21361 non-null float64\n",
      "team-2_player-8_age                21361 non-null float64\n",
      "team-2_player-9_overall_rating     21361 non-null float64\n",
      "team-2_player-9_potential          21361 non-null float64\n",
      "team-2_player-9_age                21361 non-null float64\n",
      "team-2_player-10_overall_rating    21361 non-null float64\n",
      "team-2_player-10_potential         21361 non-null float64\n",
      "team-2_player-10_age               21361 non-null float64\n",
      "team-2_player-11_overall_rating    21361 non-null float64\n",
      "team-2_player-11_potential         21361 non-null float64\n",
      "team-2_player-11_age               21361 non-null float64\n",
      "dtypes: float64(66)\n",
      "memory usage: 10.8 MB\n"
     ]
    }
   ],
   "source": [
    "X.info()"
   ]
  },
  {
   "cell_type": "code",
   "execution_count": 27,
   "metadata": {},
   "outputs": [
    {
     "name": "stderr",
     "output_type": "stream",
     "text": [
      "D:\\ProgramData\\Anaconda3\\lib\\site-packages\\sklearn\\cross_validation.py:41: DeprecationWarning: This module was deprecated in version 0.18 in favor of the model_selection module into which all the refactored classes and functions are moved. Also note that the interface of the new CV iterators are different from that of this module. This module will be removed in 0.20.\n",
      "  \"This module will be removed in 0.20.\", DeprecationWarning)\n"
     ]
    }
   ],
   "source": [
    "from sklearn.cross_validation import train_test_split\n",
    "\n",
    "# Shuffle and split the dataset into training and testing set.\n",
    "X_train, X_test, y_train, y_test = train_test_split(X, y, \n",
    "                                                    train_size = 0.9,\n",
    "                                                    test_size = 0.1,\n",
    "                                                    random_state = 12)"
   ]
  },
  {
   "cell_type": "code",
   "execution_count": 28,
   "metadata": {},
   "outputs": [],
   "source": [
    "from sklearn.metrics import f1_score\n",
    "from sklearn.metrics import accuracy_score\n",
    "\n",
    "def train_classifier(clf, X_train, y_train):\n",
    "    ''' Fits a classifier to the training , y_train)data. '''\n",
    "    clf.fit(X_train, y_train)\n",
    "\n",
    "def predict_labels(clf, features, target):\n",
    "    y_pred = clf.predict(features)\n",
    "    return round(f1_score(target, y_pred, average='micro'),2), round(accuracy_score(target, y_pred),2)\n",
    "\n",
    "def train_predict(clf, X_train, y_train, X_test, y_test):\n",
    "    ''' Train and predict using a classifer based on F1 score. '''\n",
    "    \n",
    "    # Indicate the classifier and the training set size\n",
    "    print(\"Training a {} using a training set size of. . .\",clf.__class__.__name__,len(X_train))\n",
    "    \n",
    "    # Train the classifier\n",
    "    train_classifier(clf, X_train, y_train)\n",
    "    \n",
    "    # Print the results of prediction for both training and testing\n",
    "    f1, acc = predict_labels(clf, X_train, y_train)\n",
    "    print(\"F1 score, accuracy score for training set:\",f1 , acc)\n",
    "    \n",
    "    f1, acc = predict_labels(clf, X_test, y_test)\n",
    "    print(\"F1 score, accuracy score for test set:\",f1 , acc)"
   ]
  },
  {
   "cell_type": "code",
   "execution_count": 29,
   "metadata": {},
   "outputs": [
    {
     "name": "stdout",
     "output_type": "stream",
     "text": [
      "Training a {} using a training set size of. . . LogisticRegression 19224\n",
      "F1 score, accuracy score for training set: 0.52 0.52\n",
      "F1 score, accuracy score for test set: 0.53 0.53\n",
      "\n",
      "Training a {} using a training set size of. . . SVC 19224\n",
      "F1 score, accuracy score for training set: 0.52 0.52\n",
      "F1 score, accuracy score for test set: 0.53 0.53\n",
      "\n",
      "Training a {} using a training set size of. . . RandomForestClassifier 19224\n",
      "F1 score, accuracy score for training set: 1.0 1.0\n",
      "F1 score, accuracy score for test set: 0.47 0.47\n",
      "\n",
      "Training a {} using a training set size of. . . XGBClassifier 19224\n",
      "F1 score, accuracy score for training set: 0.55 0.55\n",
      "F1 score, accuracy score for test set: 0.52 0.52\n",
      "\n"
     ]
    },
    {
     "name": "stderr",
     "output_type": "stream",
     "text": [
      "D:\\ProgramData\\Anaconda3\\lib\\site-packages\\sklearn\\preprocessing\\label.py:151: DeprecationWarning: The truth value of an empty array is ambiguous. Returning False, but in future this will result in an error. Use `array.size > 0` to check that an array is not empty.\n",
      "  if diff:\n",
      "D:\\ProgramData\\Anaconda3\\lib\\site-packages\\sklearn\\preprocessing\\label.py:151: DeprecationWarning: The truth value of an empty array is ambiguous. Returning False, but in future this will result in an error. Use `array.size > 0` to check that an array is not empty.\n",
      "  if diff:\n"
     ]
    }
   ],
   "source": [
    "from sklearn.linear_model import LogisticRegression\n",
    "from sklearn.ensemble import RandomForestClassifier\n",
    "from sklearn.svm import SVC\n",
    "from sklearn.naive_bayes import MultinomialNB\n",
    "import xgboost as xgb\n",
    "\n",
    "clf_A = LogisticRegression(random_state = 42)\n",
    "clf_B = SVC(random_state = 912, kernel='rbf')\n",
    "clf_C = RandomForestClassifier(n_estimators=15, random_state=12)\n",
    "clf_D = xgb.XGBClassifier(seed = 82)\n",
    "\n",
    "train_predict(clf_A, X_train, y_train, X_test, y_test)\n",
    "print('')\n",
    "train_predict(clf_B, X_train, y_train, X_test, y_test)\n",
    "print('')\n",
    "train_predict(clf_C, X_train, y_train, X_test, y_test)\n",
    "print('')\n",
    "train_predict(clf_D, X_train, y_train, X_test, y_test)\n",
    "print('')"
   ]
  },
  {
   "cell_type": "code",
   "execution_count": 45,
   "metadata": {},
   "outputs": [
    {
     "name": "stdout",
     "output_type": "stream",
     "text": [
      "Training a {} using a training set size of. . . GaussianNB 19224\n",
      "F1 score, accuracy score for training set: 0.48 0.48\n",
      "F1 score, accuracy score for test set: 0.48 0.48\n"
     ]
    }
   ],
   "source": [
    "from sklearn.naive_bayes import GaussianNB\n",
    "clf_E = GaussianNB()\n",
    "train_predict(clf_E, X_train, y_train, X_test, y_test)"
   ]
  },
  {
   "cell_type": "code",
   "execution_count": 30,
   "metadata": {},
   "outputs": [
    {
     "name": "stderr",
     "output_type": "stream",
     "text": [
      "D:\\ProgramData\\Anaconda3\\lib\\site-packages\\sklearn\\grid_search.py:42: DeprecationWarning: This module was deprecated in version 0.18 in favor of the model_selection module into which all the refactored classes and functions are moved. This module will be removed in 0.20.\n",
      "  DeprecationWarning)\n",
      "D:\\ProgramData\\Anaconda3\\lib\\site-packages\\sklearn\\preprocessing\\label.py:151: DeprecationWarning: The truth value of an empty array is ambiguous. Returning False, but in future this will result in an error. Use `array.size > 0` to check that an array is not empty.\n",
      "  if diff:\n",
      "D:\\ProgramData\\Anaconda3\\lib\\site-packages\\sklearn\\preprocessing\\label.py:151: DeprecationWarning: The truth value of an empty array is ambiguous. Returning False, but in future this will result in an error. Use `array.size > 0` to check that an array is not empty.\n",
      "  if diff:\n",
      "D:\\ProgramData\\Anaconda3\\lib\\site-packages\\sklearn\\preprocessing\\label.py:151: DeprecationWarning: The truth value of an empty array is ambiguous. Returning False, but in future this will result in an error. Use `array.size > 0` to check that an array is not empty.\n",
      "  if diff:\n",
      "D:\\ProgramData\\Anaconda3\\lib\\site-packages\\sklearn\\preprocessing\\label.py:151: DeprecationWarning: The truth value of an empty array is ambiguous. Returning False, but in future this will result in an error. Use `array.size > 0` to check that an array is not empty.\n",
      "  if diff:\n",
      "D:\\ProgramData\\Anaconda3\\lib\\site-packages\\sklearn\\preprocessing\\label.py:151: DeprecationWarning: The truth value of an empty array is ambiguous. Returning False, but in future this will result in an error. Use `array.size > 0` to check that an array is not empty.\n",
      "  if diff:\n"
     ]
    },
    {
     "name": "stdout",
     "output_type": "stream",
     "text": [
      "XGBClassifier(base_score=0.5, booster='gbtree', colsample_bylevel=1,\n",
      "       colsample_bytree=0.8, gamma=0.4, learning_rate=0.1,\n",
      "       max_delta_step=0, max_depth=3, min_child_weight=3, missing=None,\n",
      "       n_estimators=40, n_jobs=1, nthread=None, objective='multi:softprob',\n",
      "       random_state=0, reg_alpha=1e-05, reg_lambda=1, scale_pos_weight=1,\n",
      "       seed=2, silent=True, subsample=0.8)\n",
      "F1 score and accuracy score for training set  0.53 0.53\n",
      "F1 score and accuracy score for test set  0.53 0.53\n"
     ]
    },
    {
     "name": "stderr",
     "output_type": "stream",
     "text": [
      "D:\\ProgramData\\Anaconda3\\lib\\site-packages\\sklearn\\preprocessing\\label.py:151: DeprecationWarning: The truth value of an empty array is ambiguous. Returning False, but in future this will result in an error. Use `array.size > 0` to check that an array is not empty.\n",
      "  if diff:\n",
      "D:\\ProgramData\\Anaconda3\\lib\\site-packages\\sklearn\\preprocessing\\label.py:151: DeprecationWarning: The truth value of an empty array is ambiguous. Returning False, but in future this will result in an error. Use `array.size > 0` to check that an array is not empty.\n",
      "  if diff:\n"
     ]
    }
   ],
   "source": [
    "# TODO: Import 'GridSearchCV' and 'make_scorer'\n",
    "from sklearn.grid_search import GridSearchCV\n",
    "from sklearn.metrics import make_scorer\n",
    "\n",
    "\n",
    "# TODO: Create the parameters list you wish to tune\n",
    "parameters = { 'learning_rate' : [0.1],\n",
    "               'n_estimators' : [40],\n",
    "               'max_depth': [3],\n",
    "               'min_child_weight': [3],\n",
    "               'gamma':[0.4],\n",
    "               'subsample' : [0.8],\n",
    "               'colsample_bytree' : [0.8],\n",
    "               'scale_pos_weight' : [1],\n",
    "               'reg_alpha':[1e-5]\n",
    "             }  \n",
    "\n",
    "# TODO: Initialize the classifier\n",
    "clf = xgb.XGBClassifier(seed=2)\n",
    "\n",
    "# TODO: Make an f1 scoring function using 'make_scorer' \n",
    "f1_scorer = make_scorer(f1_score,average='micro')\n",
    "\n",
    "# TODO: Perform grid search on the classifier using the f1_scorer as the scoring method\n",
    "grid_obj = GridSearchCV(clf,\n",
    "                        scoring=f1_scorer,\n",
    "                        param_grid=parameters,\n",
    "                        cv=5)\n",
    "\n",
    "# TODO: Fit the grid search object to the training data and find the optimal parameters\n",
    "grid_obj = grid_obj.fit(X_train,y_train)\n",
    "\n",
    "# Get the estimator\n",
    "clf = grid_obj.best_estimator_\n",
    "print(clf)\n",
    "\n",
    "# Report the final F1 score for training and testing after parameter tuning\n",
    "f1, acc = predict_labels(clf, X_train, y_train)\n",
    "print(\"F1 score and accuracy score for training set \",f1 , acc)\n",
    "    \n",
    "f1, acc = predict_labels(clf, X_test, y_test)\n",
    "print(\"F1 score and accuracy score for test set \",f1 , acc)"
   ]
  },
  {
   "cell_type": "markdown",
   "metadata": {},
   "source": [
    "Even after hyperparameter optimization SVC, LogisticRegression and the XGBoost seem to be giving equivalent results but SVC has more definitive results so going with SVC"
   ]
  },
  {
   "cell_type": "code",
   "execution_count": 31,
   "metadata": {},
   "outputs": [],
   "source": [
    "# Starting XI \n",
    "import csv\n",
    "import json\n",
    "starting_xi = {}\n",
    "with open('starting_xi.csv','rU') as f:\n",
    "    reader = csv.reader(f)\n",
    "    for row in reader:\n",
    "        starting_xi[row[0]] = row[1:]"
   ]
  },
  {
   "cell_type": "code",
   "execution_count": 32,
   "metadata": {},
   "outputs": [],
   "source": [
    "def get_age_before_match(d1,d2):\n",
    "    t1 = datetime.datetime.strptime(d1,'%b %d, %Y')\n",
    "    t2 = datetime.datetime.strptime(d2,'%Y-%m-%d')\n",
    "    return (t2-t1).days\n",
    "\n",
    "def read_sofifa_data(country):\n",
    "    player_info = {}\n",
    "    file_name = '_'.join(country.lower().split())+'.json'\n",
    "    with open('teams/'+file_name) as f:\n",
    "        for line in f:\n",
    "            obj = json.loads(line.strip())\n",
    "            player_info[obj['name']] = [float(obj['overall_rating']),\n",
    "                                        float(obj['potential']),\n",
    "                                        obj['bday'].replace('(','').replace(')','')]\n",
    "    return player_info\n",
    "\n",
    "\n",
    "def get_features(country1, country2, match_date):\n",
    "    team1 = read_sofifa_data(country1)\n",
    "    team2 = read_sofifa_data(country2)\n",
    "    \n",
    "    feat = [f for pl in starting_xi[country1] for f in team1[pl][:2]+[get_age_before_match(team1[pl][2], match_date)]]\n",
    "    feat += [f for pl in starting_xi[country2] for f in team2[pl][:2]+[get_age_before_match(team2[pl][2], match_date)]]\n",
    "    return feat"
   ]
  },
  {
   "cell_type": "code",
   "execution_count": 33,
   "metadata": {},
   "outputs": [],
   "source": [
    "def predict_result(trained_model, country1, country2, match_date):\n",
    "    f = get_features(country1,country2,match_date)\n",
    "    result = trained_model.predict(np.array(f).reshape(1,-1))\n",
    "    pre_string = '{country1} vs {country2} result: '.format(country1=country1, country2=country2)\n",
    "    if result[0]==1:\n",
    "        print(pre_string+'{winner} wins'.format(winner=country1))\n",
    "    elif result[0]==0:\n",
    "        print(pre_string+'{winner} wins'.format(winner=country2))\n",
    "    else:\n",
    "        print(pre_string+'Draw')"
   ]
  },
  {
   "cell_type": "markdown",
   "metadata": {},
   "source": [
    "# Round Of 16"
   ]
  },
  {
   "cell_type": "code",
   "execution_count": 34,
   "metadata": {},
   "outputs": [
    {
     "name": "stdout",
     "output_type": "stream",
     "text": [
      "Argentina vs France result: France wins\n",
      "Portugal vs Uruguay result: Uruguay wins\n",
      "Mexico vs Brazil result: Brazil wins\n",
      "Japan vs Belgium result: Belgium wins\n",
      "Russia vs Spain result: Spain wins\n",
      "Denmark vs Croatia result: Croatia wins\n",
      "Sweden vs Switzerland result: Switzerland wins\n",
      "Colombia vs England result: England wins\n"
     ]
    }
   ],
   "source": [
    "predict_result(clf_B, 'Argentina', 'France','2018-06-30')\n",
    "predict_result(clf_B, 'Portugal', 'Uruguay','2018-06-30')\n",
    "predict_result(clf_B, 'Mexico', 'Brazil','2018-07-02')\n",
    "predict_result(clf_B, 'Japan', 'Belgium','2018-07-02')\n",
    "predict_result(clf_B, 'Russia', 'Spain','2018-07-01')\n",
    "predict_result(clf_B, 'Denmark', 'Croatia','2018-07-01')\n",
    "predict_result(clf_B, 'Sweden', 'Switzerland','2018-07-03')\n",
    "predict_result(clf_B, 'Colombia', 'England','2018-07-03')"
   ]
  },
  {
   "cell_type": "markdown",
   "metadata": {},
   "source": [
    "# Quarterfinals"
   ]
  },
  {
   "cell_type": "code",
   "execution_count": 35,
   "metadata": {},
   "outputs": [
    {
     "name": "stdout",
     "output_type": "stream",
     "text": [
      "Uruguay vs France result: France wins\n",
      "Brazil vs Belgium result: Belgium wins\n",
      "Croatia vs Spain result: Spain wins\n",
      "Switzerland vs England result: England wins\n"
     ]
    }
   ],
   "source": [
    "predict_result(clf_B, 'Uruguay', 'France','2018-07-06')\n",
    "predict_result(clf_B, 'Brazil', 'Belgium','2018-07-06')\n",
    "predict_result(clf_B, 'Croatia', 'Spain','2018-07-07')\n",
    "predict_result(clf_B, 'Switzerland', 'England','2018-07-07')"
   ]
  },
  {
   "cell_type": "markdown",
   "metadata": {},
   "source": [
    "# Semifinals"
   ]
  },
  {
   "cell_type": "code",
   "execution_count": 36,
   "metadata": {},
   "outputs": [
    {
     "name": "stdout",
     "output_type": "stream",
     "text": [
      "France vs Belgium result: Belgium wins\n",
      "Spain vs England result: England wins\n"
     ]
    }
   ],
   "source": [
    "predict_result(clf_B, 'France', 'Belgium','2018-07-10')\n",
    "predict_result(clf_B, 'Spain', 'England','2018-07-11')"
   ]
  },
  {
   "cell_type": "markdown",
   "metadata": {},
   "source": [
    "# Third Place Play Off"
   ]
  },
  {
   "cell_type": "code",
   "execution_count": 37,
   "metadata": {},
   "outputs": [
    {
     "name": "stdout",
     "output_type": "stream",
     "text": [
      "Spain vs France result: France wins\n"
     ]
    }
   ],
   "source": [
    "predict_result(clf_B, 'Spain', 'France','2018-07-14')"
   ]
  },
  {
   "cell_type": "markdown",
   "metadata": {},
   "source": [
    "# Final"
   ]
  },
  {
   "cell_type": "code",
   "execution_count": 38,
   "metadata": {},
   "outputs": [
    {
     "name": "stdout",
     "output_type": "stream",
     "text": [
      "England vs Belgium result: Belgium wins\n"
     ]
    }
   ],
   "source": [
    "predict_result(clf_B, 'England', 'Belgium','2018-07-15')"
   ]
  },
  {
   "cell_type": "markdown",
   "metadata": {},
   "source": [
    "Thus **Belgium** comes out on top."
   ]
  },
  {
   "cell_type": "code",
   "execution_count": null,
   "metadata": {},
   "outputs": [],
   "source": []
  }
 ],
 "metadata": {
  "kernelspec": {
   "display_name": "Python 3",
   "language": "python",
   "name": "python3"
  },
  "language_info": {
   "codemirror_mode": {
    "name": "ipython",
    "version": 3
   },
   "file_extension": ".py",
   "mimetype": "text/x-python",
   "name": "python",
   "nbconvert_exporter": "python",
   "pygments_lexer": "ipython3",
   "version": "3.6.4"
  }
 },
 "nbformat": 4,
 "nbformat_minor": 2
}
